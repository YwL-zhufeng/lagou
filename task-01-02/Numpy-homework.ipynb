{
 "cells": [
  {
   "cell_type": "code",
   "execution_count": 8,
   "metadata": {},
   "outputs": [],
   "source": [
    "# numpy作业\n",
    "# 生成6个班级考试成绩，50*3\n",
    "import numpy as np"
   ]
  },
  {
   "cell_type": "code",
   "execution_count": 9,
   "metadata": {},
   "outputs": [],
   "source": [
    "class1 = np.random.randint(0,101,size = (50,3)) #成绩区间 [0,100], randint[0，101）\n",
    "class2 = np.random.randint(0,101,size = (50,3))\n",
    "class3 = np.random.randint(0,101,size = (50,3))\n",
    "class4 = np.random.randint(0,101,size = (50,3))\n",
    "class5 = np.random.randint(0,101,size = (50,3))\n",
    "class6 = np.random.randint(0,101,size = (50,3))\n",
    "#display(class1,class2,class3,class4,class5,class6)"
   ]
  },
  {
   "cell_type": "code",
   "execution_count": 10,
   "metadata": {},
   "outputs": [],
   "source": [
    "#将6个班级成绩垂直叠加得到二维数组score\n",
    "score = np.vstack((class1,class2,class3,class4,class5,class6))\n",
    "#score.shape"
   ]
  },
  {
   "cell_type": "code",
   "execution_count": 11,
   "metadata": {},
   "outputs": [],
   "source": [
    "#生成性别数组sex 300*1\n",
    "sex = np.random.choice(['男','女'],size = 300).reshape(300,1)\n",
    "#sex.shape"
   ]
  },
  {
   "cell_type": "code",
   "execution_count": 12,
   "metadata": {},
   "outputs": [],
   "source": [
    "#水平叠加数组score、sex，得到data，300*4\n",
    "data = np.hstack((score,sex))\n",
    "#data.shape"
   ]
  },
  {
   "cell_type": "code",
   "execution_count": 34,
   "metadata": {},
   "outputs": [
    {
     "name": "stdout",
     "output_type": "stream",
     "text": [
      "(149, 3) (151, 3)\n"
     ]
    }
   ],
   "source": [
    "# 计算各科成绩统计指标\n",
    "# 分性别\n",
    "con = data[:,3] == '男'\n",
    "data_men = data[con]\n",
    "#去除性别一列以便于统计计算\n",
    "data_men = np.split(data_men,indices_or_sections=[3],axis=1)[0]\n",
    "con1 = data[:,3] == '女'\n",
    "data_women = data[con1]\n",
    "data_women = np.split(data_women,indices_or_sections=[3],axis=1)[0]\n",
    "#print(data_men.shape,data_women.shape)"
   ]
  },
  {
   "cell_type": "code",
   "execution_count": 64,
   "metadata": {},
   "outputs": [
    {
     "name": "stdout",
     "output_type": "stream",
     "text": [
      "score_min_men : [1 0 0]\n",
      "score_min_women : [0 0 0]\n"
     ]
    }
   ],
   "source": [
    "#格式转换\n",
    "data_men = np.array(data_men).astype(np.int)\n",
    "data_women = np.array(data_women).astype(np.int)\n",
    "\n",
    "#最小值\n",
    "score_min_men = np.min(data_men,axis=0)\n",
    "score_min_women = np.min(data_women,axis=0)\n",
    "print('score_min_men :',score_min_men)\n",
    "print('score_min_women :',score_min_women)"
   ]
  },
  {
   "cell_type": "code",
   "execution_count": 65,
   "metadata": {},
   "outputs": [
    {
     "name": "stdout",
     "output_type": "stream",
     "text": [
      "score_max_men : [ 99 100 100]\n",
      "score_max_women : [100  99 100]\n"
     ]
    }
   ],
   "source": [
    "#最大值\n",
    "score_max_men = np.max(data_men,axis=0)\n",
    "score_max_women = np.max(data_women,axis=0)\n",
    "print('score_max_men :',score_max_men)\n",
    "print('score_max_women :',score_max_women)"
   ]
  },
  {
   "cell_type": "code",
   "execution_count": 66,
   "metadata": {},
   "outputs": [
    {
     "name": "stdout",
     "output_type": "stream",
     "text": [
      "score_av_men : [48.77852349 52.23489933 47.63087248]\n",
      "score_av_women : [46.70860927 42.01324503 54.21854305]\n"
     ]
    }
   ],
   "source": [
    "#平均值\n",
    "score_av_men = np.mean(data_men,axis=0)\n",
    "score_av_women = np.mean(data_women,axis=0)\n",
    "print('score_av_men :',score_av_men)\n",
    "print('score_av_women :',score_av_women)"
   ]
  },
  {
   "cell_type": "code",
   "execution_count": 67,
   "metadata": {},
   "outputs": [
    {
     "name": "stdout",
     "output_type": "stream",
     "text": [
      "score_median_men : [49. 51. 46.]\n",
      "score_median_women : [42. 39. 56.]\n"
     ]
    }
   ],
   "source": [
    "#中位数\n",
    "score_median_men = np.median(data_men,axis=0)\n",
    "score_median_women = np.median(data_women,axis=0)\n",
    "print('score_median_men :',score_median_men)\n",
    "print('score_median_women :',score_median_women)"
   ]
  },
  {
   "cell_type": "code",
   "execution_count": 68,
   "metadata": {},
   "outputs": [
    {
     "name": "stdout",
     "output_type": "stream",
     "text": [
      "score_std_men : [27.78001929 28.58905532 29.04459635]\n",
      "score_std_women : [31.83475326 28.41182171 28.87742858]\n"
     ]
    }
   ],
   "source": [
    "#标准差\n",
    "score_std_men = np.std(data_men,axis=0)\n",
    "score_std_women = np.std(data_women,axis=0)\n",
    "print('score_std_men :',score_std_men)\n",
    "print('score_std_women :',score_std_women)"
   ]
  },
  {
   "cell_type": "code",
   "execution_count": null,
   "metadata": {},
   "outputs": [],
   "source": []
  }
 ],
 "metadata": {
  "kernelspec": {
   "display_name": "Python 3",
   "language": "python",
   "name": "python3"
  },
  "language_info": {
   "codemirror_mode": {
    "name": "ipython",
    "version": 3
   },
   "file_extension": ".py",
   "mimetype": "text/x-python",
   "name": "python",
   "nbconvert_exporter": "python",
   "pygments_lexer": "ipython3",
   "version": "3.8.5"
  },
  "toc": {
   "base_numbering": 1,
   "nav_menu": {},
   "number_sections": true,
   "sideBar": true,
   "skip_h1_title": false,
   "title_cell": "Table of Contents",
   "title_sidebar": "Contents",
   "toc_cell": false,
   "toc_position": {},
   "toc_section_display": true,
   "toc_window_display": false
  }
 },
 "nbformat": 4,
 "nbformat_minor": 4
}
